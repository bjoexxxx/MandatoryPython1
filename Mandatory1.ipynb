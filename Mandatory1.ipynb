{
 "cells": [
  {
   "cell_type": "code",
   "execution_count": 4,
   "metadata": {},
   "outputs": [
    {
     "name": "stdout",
     "output_type": "stream",
     "text": [
      "['Benny', 'Hans', 'Mille', 'Torben', 'Troels', 'Søren']\n",
      "['Tine']\n",
      "1\n",
      "['Tine', 'Trunte', 'Rane']\n",
      "['Tine']\n",
      "['Tine']\n",
      "['Niels', 'Anna', 'Ole', 'Bent', 'Allan', 'Stine', 'Claus', 'James', 'Lars']\n"
     ]
    }
   ],
   "source": [
    "BoardOfDirectors = ['Benny', 'Hans', 'Tine', 'Mille', 'Torben', 'Troels', 'Søren']\n",
    "\n",
    "Management = ['Tine', 'Trunte', 'Rane']\n",
    "\n",
    "Employees = ['Niels', 'Anna', 'Tine', 'Ole', 'Trunte', 'Bent', 'Rane'\n",
    "             , 'Allan', 'Stine', 'Claus', 'James', 'Lars']\n",
    "\n",
    "BoardNotEmp = [member for member in BoardOfDirectors if member not in Employees]\n",
    "print(BoardNotEmp)\n",
    "\n",
    "BoardIsEmp = [member for member in BoardOfDirectors if member in Employees]\n",
    "print(BoardIsEmp)\n",
    "\n",
    "ManagementIsBoard = [member for member in Management if member in BoardOfDirectors] \n",
    "print(len(ManagementIsBoard))\n",
    "\n",
    "ManagementIsEmp = [member for member in Management if member in Employees]\n",
    "print(ManagementIsEmp)\n",
    "\n",
    "print(ManagementIsBoard)\n",
    "\n",
    "InAll = [member for member in BoardOfDirectors if member in Employees and member in Management]\n",
    "print(InAll)\n",
    "\n",
    "EmpNotBoardNotManagement = [member for member in Employees if member \n",
    "                            not in BoardOfDirectors and member not in Management]\n",
    "print(EmpNotBoardNotManagement)"
   ]
  },
  {
   "cell_type": "code",
   "execution_count": 5,
   "metadata": {},
   "outputs": [
    {
     "name": "stdout",
     "output_type": "stream",
     "text": [
      "[('a', 'Alpha'), ('b', 'Beta'), ('g', 'Gamma')]\n"
     ]
    }
   ],
   "source": [
    "data = {'a': 'Alpha', 'b' : 'Beta', 'g': 'Gamma'}\n",
    "tuples = list(data.items())\n",
    "print(tuples)"
   ]
  },
  {
   "cell_type": "code",
   "execution_count": 6,
   "metadata": {},
   "outputs": [
    {
     "name": "stdout",
     "output_type": "stream",
     "text": [
      "{'a', 'u', 'å', 'æ', 'y', 'o', 'e', 'ø', 'i'}\n",
      "{'a', 'u', 'å', 'æ', 'y', 'o', 'e', 'ø', 'i'}\n",
      "{'å', 'æ', 'ø'}\n",
      "{'å', 'æ', 'ø'}\n",
      "set()\n",
      "set()\n",
      "False\n",
      "False\n"
     ]
    }
   ],
   "source": [
    "data1 = {'a', 'e', 'i', 'o', 'u', 'y'}\n",
    "data2 = {'a', 'e', 'i', 'o', 'u', 'y', 'æ' ,'ø', 'å'}\n",
    "\n",
    "print(data1.union(data2))\n",
    "print(data1 | data2)\n",
    "\n",
    "print(data1.symmetric_difference(data2))\n",
    "print(data1^data2)\n",
    "\n",
    "print(data1.difference(data2))\n",
    "print(data1-data2)\n",
    "#skal være tomt fordi du \"trækker\" data2 fra data1, og fordi alle tingene i data1 er tilstede i data2\n",
    "#fjerner du derfor hele data1 og får et tomt data set\n",
    "\n",
    "print(data1.isdisjoint(data2))\n",
    "print(not(data1&data2))"
   ]
  },
  {
   "cell_type": "code",
   "execution_count": 8,
   "metadata": {},
   "outputs": [
    {
     "name": "stdout",
     "output_type": "stream",
     "text": [
      "('1985', 3, '8')\n"
     ]
    }
   ],
   "source": [
    "monthDict = {\n",
    "    \"JAN\": 1, \"FEB\": 2, \"MAR\": 3, \"APR\": 4,\n",
    "    \"MAY\": 5, \"JUN\": 6, \"JUL\": 7, \"AUG\": 8,\n",
    "    \"SEP\": 9, \"OCT\": 10, \"NOV\": 11, \"DEC\": 12\n",
    "}\n",
    "\n",
    "def decodeDate(date):\n",
    "    day , monthAbbrev , year = date.split(\"-\")\n",
    "    month = monthDict[monthAbbrev.upper()]\n",
    "    if 0 <= int(year) <= 23:\n",
    "        year = \"20\" + year\n",
    "    else:\n",
    "        year = \"19\" + year\n",
    "    return(year, month, day)\n",
    "date = \"8-MAR-85\"\n",
    "\n",
    "print(decodeDate(date))"
   ]
  },
  {
   "cell_type": "code",
   "execution_count": 11,
   "metadata": {},
   "outputs": [
    {
     "name": "stdout",
     "output_type": "stream",
     "text": [
      "unknown: ['Bob', 'Eve', 'Alice']\n",
      " unbidden: ['Grace', 'Hannah', 'Frank']\n",
      " confirmed: ['David', 'Charlie']\n"
     ]
    }
   ],
   "source": [
    "invited = [\"Alice\", \"Bob\", \"Charlie\", \"David\", \"Eve\"]\n",
    "rsvp = [\"Charlie\", \"David\", \"Frank\", \"Grace\", \"Hannah\"]\n",
    "\n",
    "def friendSorter():\n",
    "    invitedSet = set(invited)\n",
    "    rsvpSet = set(rsvp)\n",
    "    unknown = list(invitedSet - rsvpSet)\n",
    "    unbidden = list(rsvpSet - invitedSet)\n",
    "    confirmed = list(invitedSet & rsvpSet)\n",
    "    return f\"unknown: {unknown}\\n unbidden: {unbidden}\\n confirmed: {confirmed}\"\n",
    "\n",
    "print(friendSorter())\n"
   ]
  },
  {
   "cell_type": "code",
   "execution_count": 12,
   "metadata": {},
   "outputs": [
    {
     "name": "stdout",
     "output_type": "stream",
     "text": [
      "['Alice', 'Bob', 'David']\n"
     ]
    }
   ],
   "source": [
    "studentGrades = {'Alice': 52, 'Bob': 85, 'Charlie': 7, 'David': 95, 'Eve': 33}\n",
    "\n",
    "def updateGradeAndReturnGoodStudents(student_name, new_grade):\n",
    "    if student_name in studentGrades:\n",
    "        studentGrades[student_name] = new_grade\n",
    "    else:\n",
    "        return f\"{student_name} is not in the record. No grade was updated.\"\n",
    "    \n",
    "    good_students = [name for name, grade in studentGrades.items() if grade >= 85]\n",
    "\n",
    "    return good_students\n",
    "\n",
    "print(updateGradeAndReturnGoodStudents('Alice', 95))\n",
    "\n",
    "\n",
    "\n",
    " \n"
   ]
  }
 ],
 "metadata": {
  "kernelspec": {
   "display_name": ".venv",
   "language": "python",
   "name": "python3"
  },
  "language_info": {
   "codemirror_mode": {
    "name": "ipython",
    "version": 3
   },
   "file_extension": ".py",
   "mimetype": "text/x-python",
   "name": "python",
   "nbconvert_exporter": "python",
   "pygments_lexer": "ipython3",
   "version": "3.11.4"
  },
  "orig_nbformat": 4
 },
 "nbformat": 4,
 "nbformat_minor": 2
}
